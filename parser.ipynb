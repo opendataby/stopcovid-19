{
 "cells": [
  {
   "cell_type": "code",
   "execution_count": 5,
   "metadata": {},
   "outputs": [],
   "source": [
    "from bs4 import BeautifulSoup as bs\n",
    "import requests\n",
    "import datetime\n",
    "import csv"
   ]
  },
  {
   "cell_type": "code",
   "execution_count": 6,
   "metadata": {},
   "outputs": [],
   "source": [
    "url = \"http://stopcovid.belta.by/\"\n",
    "soup = bs(requests.get(url).content, \"html5lib\")"
   ]
  },
  {
   "cell_type": "code",
   "execution_count": 16,
   "metadata": {},
   "outputs": [],
   "source": [
    "died = soup.find(\"div\", {\"data-elem-id\": \"1587028275158\"}).text # Умерли\n",
    "recovered = soup.find(\"div\", {\"field\": \"tn_text_1587117956904\"}).text.replace(\" \", \"\") # Выздоровели и выписаны\n",
    "infected = soup.find(\"div\", {\"field\": \"tn_text_1587028275132\"}).text.replace(\" \", \"\") # Зарегистрированы\n",
    "tested = soup.find(\"div\", {\"field\": \"tn_text_1587028275139\"}).text.replace(\" \", \"\") # Проведено тестов\n",
    "date_pub = soup.find(\"div\", {\"field\": \"tn_text_1586345986707\"}).text.replace(\" \", \"\") # Дата публикации данных\n",
    "time_pub = soup.find(\"div\", {\"field\": \"tn_text_1586345944157\"}).text.strip(\"на \") # Время публикации\n",
    "time_stamp = datetime.datetime.now().strftime(\"%Y-%m-%d %H:%M\") # Время сбора данных со страница"
   ]
  },
  {
   "cell_type": "code",
   "execution_count": 17,
   "metadata": {},
   "outputs": [],
   "source": [
    "datum = {\"died\": died, \"recovered\": recovered, \"infected\": infected, \"tested\": tested, \"date_pub\": date_pub, \"time_pub\": time_pub, \"time_stamp\": time_stamp}"
   ]
  },
  {
   "cell_type": "code",
   "execution_count": 18,
   "metadata": {},
   "outputs": [],
   "source": [
    "with open(\"stopcovid_data.csv\", \"a\") as f:\n",
    "    field_names = datum.keys()\n",
    "    csv_writer = csv.DictWriter(f, fieldnames=field_names)\n",
    "    csv_writer.writerow(datum)"
   ]
  }
 ],
 "metadata": {
  "kernelspec": {
   "display_name": "Python 3",
   "language": "python",
   "name": "python3"
  },
  "language_info": {
   "codemirror_mode": {
    "name": "ipython",
    "version": 3
   },
   "file_extension": ".py",
   "mimetype": "text/x-python",
   "name": "python",
   "nbconvert_exporter": "python",
   "pygments_lexer": "ipython3",
   "version": "3.7.3"
  }
 },
 "nbformat": 4,
 "nbformat_minor": 4
}
